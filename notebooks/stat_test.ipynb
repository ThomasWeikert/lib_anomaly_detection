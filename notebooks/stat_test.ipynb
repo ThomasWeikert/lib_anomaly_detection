{
 "cells": [
  {
   "cell_type": "code",
   "execution_count": 1,
   "id": "89aada13-a512-4bcd-923c-1a46e1457464",
   "metadata": {},
   "outputs": [
    {
     "name": "stdout",
     "output_type": "stream",
     "text": [
      "Populating the interactive namespace from numpy and matplotlib\n"
     ]
    }
   ],
   "source": [
    "%pylab inline\n",
    "import pandas as pd\n",
    "import numpy as np\n",
    "from scipy import stats"
   ]
  },
  {
   "cell_type": "code",
   "execution_count": 2,
   "id": "b17b4a61-085c-4cf6-bbdb-98e59690624d",
   "metadata": {},
   "outputs": [],
   "source": [
    "def make_lognorm(mean,std):\n",
    "    # Creates lognormal distribution with specific mean and standard deviation\n",
    "    shape = np.sqrt(np.log((std**2 + mean**2)/mean**2))\n",
    "    scale = (mean**3 * np.sqrt((std**2 + mean**2)/mean**2))/(std**2 + mean**2)\n",
    "    return stats.lognorm(shape,scale=scale)\n"
   ]
  },
  {
   "cell_type": "code",
   "execution_count": 3,
   "id": "11a22b25-ccb5-44f9-9ef4-96427abe00c7",
   "metadata": {},
   "outputs": [],
   "source": [
    "\n",
    "def est_poission_rate_ci(n_events, \n",
    "                         source_duration, \n",
    "                         target_duration=1.0, \n",
    "                         ci=0.98,\n",
    "                         expected_avg_n_events_per_unit_duration=200):\n",
    "    \"\"\"\n",
    "    Estimate poission rate parameter confidence interval\n",
    "\n",
    "    Parameters\n",
    "    ----------\n",
    "    n_events : int\n",
    "        number of observed events\n",
    "    source_duration : float\n",
    "        duration for which n_events were observed\n",
    "    target_duration : float\n",
    "        duration for which to return expected rate\n",
    "    ci : float\n",
    "        size of confidence interval\n",
    "\n",
    "    Returns\n",
    "    -------\n",
    "    (float,float)\n",
    "        Confidence interval left, right bounds\n",
    "    \"\"\"\n",
    "    \n",
    "    def calc_posterior(prior_shape, prior_scale, n_events, duration):\n",
    "        posterior_shape = prior_shape + n_events\n",
    "        posterior_scale = prior_scale/(prior_scale*duration+1)\n",
    "\n",
    "        return posterior_shape, posterior_scale\n",
    "\n",
    "    rate_prior_average = expected_avg_n_events_per_unit_duration\n",
    "    rate_prior_shape = 1\n",
    "    rate_prior_scale = rate_prior_average/rate_prior_shape\n",
    "    rate_prior = stats.gamma(rate_prior_shape,scale=rate_prior_scale)\n",
    "    \n",
    "    posterior_shape, posterior_scale = calc_posterior(rate_prior_shape, \n",
    "                                                      rate_prior_scale, \n",
    "                                                      n_events, \n",
    "                                                      source_duration/target_duration)\n",
    "    posterior = stats.gamma(posterior_shape,scale=posterior_scale)\n",
    "    return posterior\n",
    "    "
   ]
  },
  {
   "cell_type": "code",
   "execution_count": 4,
   "id": "604fba33-36f5-4ee7-bf21-312035c3e5be",
   "metadata": {},
   "outputs": [],
   "source": [
    "# Find lower bound for specific confidence interval\n",
    "def find_lower_ci(obs,risk_premium):\n",
    "    exp_rate = np.array(desp(obs))\n",
    "    #exp_rate = exp_rate.reshape((len(exp_rate), 1))        \n",
    "    lower_ci = np.array(([(rate - risk_premium) for rate in exp_rate]))\n",
    "    df['lower_ci'] = lower_ci\n",
    "\n",
    "\n",
    "def is_outlier(lower_ci, obs):\n",
    "    # lower_ci - Any rate below lower_ci is an outlier\n",
    "    # Observed rate estimated from observations\n",
    "    obs_rate = est_poission_rate_ci(obs,1)\n",
    "    return obs_rate.cdf(lower_ci) > 0.99"
   ]
  },
  {
   "cell_type": "code",
   "execution_count": 5,
   "id": "4279a3d9",
   "metadata": {},
   "outputs": [],
   "source": [
    "def desp(pax):\n",
    "\n",
    "    \"\"\"\n",
    "    Estimate expected rate parameter \n",
    "\n",
    "    Parameters\n",
    "    ----------\n",
    "    pax : DataFrame\n",
    "        Pax to forecast \n",
    "\n",
    "    Returns\n",
    "    -------\n",
    "    (array,array)\n",
    "        pax prediction, pax groundtruth\n",
    "    \"\"\"\n",
    "\n",
    "    alphas = [0.496] #496\n",
    "    t = 1\n",
    "    sqt_prev = 0\n",
    "    sqt2_prev = 0\n",
    "    for alpha in alphas: \n",
    "        exp_rate = []\n",
    "        for p in pax:\n",
    "            f = alpha * t / (1 - alpha)\n",
    "            sqt_x = (alpha * p) + ((1 - alpha) * sqt_prev)\n",
    "            sqt2_x = (alpha * sqt_x) + ((1 - alpha) * sqt2_prev)\n",
    "            pred_x = (2 + f) * sqt_x - (1 + f) * sqt2_x\n",
    "            if pred_x < 0:\n",
    "                result = 0 \n",
    "            else:\n",
    "                result = np.array(pred_x)\n",
    "            sqt_prev = np.array(sqt_x)\n",
    "            sqt2_prev = np.array(sqt2_x)\n",
    "            exp_rate.append(result)  \n",
    "\n",
    "    exp_rate = np.array(exp_rate)\n",
    "    \n",
    "    return exp_rate"
   ]
  },
  {
   "cell_type": "code",
   "execution_count": 6,
   "id": "6ab8a239-e137-494e-b01b-647682277219",
   "metadata": {},
   "outputs": [
    {
     "data": {
      "text/plain": [
       "False"
      ]
     },
     "execution_count": 6,
     "metadata": {},
     "output_type": "execute_result"
    }
   ],
   "source": [
    "obs = 170\n",
    "lower_ci = 154.901755\n",
    "is_outlier(lower_ci, obs)"
   ]
  },
  {
   "cell_type": "code",
   "execution_count": 69,
   "id": "765a0a5f-d8ef-49c1-8dad-73c0913dae48",
   "metadata": {},
   "outputs": [
    {
     "name": "stdout",
     "output_type": "stream",
     "text": [
      "16.099999999999998\n"
     ]
    },
    {
     "data": {
      "text/plain": [
       "True"
      ]
     },
     "execution_count": 69,
     "metadata": {},
     "output_type": "execute_result"
    }
   ],
   "source": [
    "obs = 7\n",
    "lower_ci = obs*2.3\n",
    "print(lower_ci)\n",
    "is_outlier(lower_ci, obs)"
   ]
  },
  {
   "cell_type": "code",
   "execution_count": 10,
   "id": "86609b36-d96a-4980-a7b4-916798a7ffc4",
   "metadata": {},
   "outputs": [],
   "source": [
    "def calc_detection_rate(exp_rate_mean,anomaly_mult):\n",
    "    expected_rate = make_lognorm(exp_rate_mean,exp_rate_mean/1000)\n",
    "    exp_rate_lower_ci = find_lower_ci(exp_ra )\n",
    "    \n",
    "    detections = list()\n",
    "    for obs in stats.poisson(expected_rate.rvs(100)*anomaly_mult).rvs():\n",
    "        detections.append(is_outlier(exp_rate_lower_ci, obs) )\n",
    "    return np.array(detections).mean()"
   ]
  },
  {
   "cell_type": "code",
   "execution_count": 18,
   "id": "4c7ba969-b5f7-40c7-a3eb-bba15147b280",
   "metadata": {},
   "outputs": [
    {
     "name": "stdout",
     "output_type": "stream",
     "text": [
      "0   "
     ]
    },
    {
     "ename": "TypeError",
     "evalue": "find_lower_ci() missing 2 required positional arguments: 'df' and 'risk_premium'",
     "output_type": "error",
     "traceback": [
      "\u001b[0;31m---------------------------------------------------------------------------\u001b[0m",
      "\u001b[0;31mTypeError\u001b[0m                                 Traceback (most recent call last)",
      "\u001b[0;32m/var/folders/73/4g4b0cyj1bn9f03mw8sjws_h0000gn/T/ipykernel_48751/199035251.py\u001b[0m in \u001b[0;36m<module>\u001b[0;34m\u001b[0m\n\u001b[1;32m      3\u001b[0m \u001b[0;32mfor\u001b[0m \u001b[0mi\u001b[0m\u001b[0;34m,\u001b[0m \u001b[0mm\u001b[0m \u001b[0;32min\u001b[0m \u001b[0menumerate\u001b[0m\u001b[0;34m(\u001b[0m\u001b[0mmult\u001b[0m\u001b[0;34m)\u001b[0m\u001b[0;34m:\u001b[0m\u001b[0;34m\u001b[0m\u001b[0;34m\u001b[0m\u001b[0m\n\u001b[1;32m      4\u001b[0m     \u001b[0mprint\u001b[0m\u001b[0;34m(\u001b[0m\u001b[0;34mf'\\r{i}'\u001b[0m\u001b[0;34m,\u001b[0m\u001b[0mend\u001b[0m\u001b[0;34m=\u001b[0m\u001b[0;34m'   '\u001b[0m\u001b[0;34m,\u001b[0m\u001b[0mflush\u001b[0m\u001b[0;34m=\u001b[0m\u001b[0;32mTrue\u001b[0m\u001b[0;34m)\u001b[0m\u001b[0;34m\u001b[0m\u001b[0;34m\u001b[0m\u001b[0m\n\u001b[0;32m----> 5\u001b[0;31m     \u001b[0mdr\u001b[0m\u001b[0;34m.\u001b[0m\u001b[0mappend\u001b[0m\u001b[0;34m(\u001b[0m \u001b[0mcalc_detection_rate\u001b[0m\u001b[0;34m(\u001b[0m\u001b[0;36m200\u001b[0m\u001b[0;34m,\u001b[0m\u001b[0mm\u001b[0m\u001b[0;34m)\u001b[0m\u001b[0;34m)\u001b[0m\u001b[0;34m\u001b[0m\u001b[0;34m\u001b[0m\u001b[0m\n\u001b[0m",
      "\u001b[0;32m/var/folders/73/4g4b0cyj1bn9f03mw8sjws_h0000gn/T/ipykernel_48751/3805390201.py\u001b[0m in \u001b[0;36mcalc_detection_rate\u001b[0;34m(exp_rate_mean, anomaly_mult)\u001b[0m\n\u001b[1;32m      1\u001b[0m \u001b[0;32mdef\u001b[0m \u001b[0mcalc_detection_rate\u001b[0m\u001b[0;34m(\u001b[0m\u001b[0mexp_rate_mean\u001b[0m\u001b[0;34m,\u001b[0m\u001b[0manomaly_mult\u001b[0m\u001b[0;34m)\u001b[0m\u001b[0;34m:\u001b[0m\u001b[0;34m\u001b[0m\u001b[0;34m\u001b[0m\u001b[0m\n\u001b[1;32m      2\u001b[0m     \u001b[0mexpected_rate\u001b[0m \u001b[0;34m=\u001b[0m \u001b[0mmake_lognorm\u001b[0m\u001b[0;34m(\u001b[0m\u001b[0mexp_rate_mean\u001b[0m\u001b[0;34m,\u001b[0m\u001b[0mexp_rate_mean\u001b[0m\u001b[0;34m/\u001b[0m\u001b[0;36m1000\u001b[0m\u001b[0;34m)\u001b[0m\u001b[0;34m\u001b[0m\u001b[0;34m\u001b[0m\u001b[0m\n\u001b[0;32m----> 3\u001b[0;31m     \u001b[0mexp_rate_lower_ci\u001b[0m \u001b[0;34m=\u001b[0m \u001b[0mfind_lower_ci\u001b[0m\u001b[0;34m(\u001b[0m \u001b[0;34m)\u001b[0m \u001b[0;31m# This is to be computed by Thomas\u001b[0m\u001b[0;34m\u001b[0m\u001b[0;34m\u001b[0m\u001b[0m\n\u001b[0m\u001b[1;32m      4\u001b[0m \u001b[0;34m\u001b[0m\u001b[0m\n\u001b[1;32m      5\u001b[0m     \u001b[0mdetections\u001b[0m \u001b[0;34m=\u001b[0m \u001b[0mlist\u001b[0m\u001b[0;34m(\u001b[0m\u001b[0;34m)\u001b[0m\u001b[0;34m\u001b[0m\u001b[0;34m\u001b[0m\u001b[0m\n",
      "\u001b[0;31mTypeError\u001b[0m: find_lower_ci() missing 2 required positional arguments: 'df' and 'risk_premium'"
     ]
    }
   ],
   "source": [
    "mult = np.linspace(0,1.1)\n",
    "dr = list()\n",
    "for i, m in enumerate(mult):\n",
    "    print(f'\\r{i}',end='   ',flush=True)\n",
    "    dr.append( calc_detection_rate(200,m))"
   ]
  },
  {
   "cell_type": "code",
   "execution_count": 75,
   "id": "376d802b-2ce7-4b07-a768-75ee2d354bf3",
   "metadata": {},
   "outputs": [
    {
     "data": {
      "text/plain": [
       "Text(0.5, 0, 'Anomaly coef')"
      ]
     },
     "execution_count": 75,
     "metadata": {},
     "output_type": "execute_result"
    },
    {
     "data": {
      "image/png": "[encoded data removed]",
      "text/plain": [
       "<Figure size 432x288 with 1 Axes>"
      ]
     },
     "metadata": {
      "needs_background": "light"
     },
     "output_type": "display_data"
    }
   ],
   "source": [
    "plot(mult,dr)\n",
    "xlabel(\"Anomaly coef\")"
   ]
  },
  {
   "cell_type": "code",
   "execution_count": 19,
   "id": "d9992f63-8324-4b82-8612-fcb520b4a8a4",
   "metadata": {},
   "outputs": [
    {
     "ename": "TypeError",
     "evalue": "calc_detection_rate() missing 1 required positional argument: 'anomaly_mult'",
     "output_type": "error",
     "traceback": [
      "\u001b[0;31m---------------------------------------------------------------------------\u001b[0m",
      "\u001b[0;31mTypeError\u001b[0m                                 Traceback (most recent call last)",
      "\u001b[0;32m/var/folders/73/4g4b0cyj1bn9f03mw8sjws_h0000gn/T/ipykernel_48751/3960159839.py\u001b[0m in \u001b[0;36m<module>\u001b[0;34m\u001b[0m\n\u001b[0;32m----> 1\u001b[0;31m \u001b[0mcalc_detection_rate\u001b[0m\u001b[0;34m(\u001b[0m\u001b[0;36m5\u001b[0m\u001b[0;34m)\u001b[0m\u001b[0;34m\u001b[0m\u001b[0;34m\u001b[0m\u001b[0m\n\u001b[0m",
      "\u001b[0;31mTypeError\u001b[0m: calc_detection_rate() missing 1 required positional argument: 'anomaly_mult'"
     ]
    }
   ],
   "source": [
    "calc_detection_rate(5)"
   ]
  },
  {
   "cell_type": "code",
   "execution_count": 213,
   "id": "b0337b1b-03b4-4fd8-a67b-4d80568fc476",
   "metadata": {},
   "outputs": [],
   "source": [
    "detections = list()\n",
    "for _ in range(2000):\n",
    "    obs = stats.poisson(expected_rate.rvs(1) * 0.5 ).rvs()\n",
    "    detections.append(is_outlier(exp_rate_lower_ci, obs) )\n",
    "detection_rate = np.array(detections).mean()"
   ]
  },
  {
   "cell_type": "code",
   "execution_count": 214,
   "id": "1239366e-5ff5-47be-9022-df9712f9af04",
   "metadata": {},
   "outputs": [
    {
     "data": {
      "text/plain": [
       "0.0895"
      ]
     },
     "execution_count": 214,
     "metadata": {},
     "output_type": "execute_result"
    }
   ],
   "source": [
    "detection_rate"
   ]
  },
  {
   "cell_type": "code",
   "execution_count": 215,
   "id": "76c0f46e-26b5-4b43-aedf-21e4afc8f64c",
   "metadata": {},
   "outputs": [],
   "source": [
    "obs = stats.poisson(expected_rate.rvs(1)).rvs()\n",
    "obs_rate = est_poission_rate_ci(obs,1)"
   ]
  },
  {
   "cell_type": "code",
   "execution_count": 216,
   "id": "7fb03075-4775-40ef-8b8a-cd9eb76f6588",
   "metadata": {},
   "outputs": [],
   "source": [
    "def is_outlier(lower_ci, obs):\n",
    "    obs_rate = est_poission_rate_ci(obs,1)\n",
    "    return obs_rate.cdf(exp_rate_lower_ci) > 0.95"
   ]
  },
  {
   "cell_type": "code",
   "execution_count": 217,
   "id": "6433406f-d201-4241-904d-dbd0b6fa11b4",
   "metadata": {},
   "outputs": [
    {
     "data": {
      "text/plain": [
       "False"
      ]
     },
     "execution_count": 217,
     "metadata": {},
     "output_type": "execute_result"
    }
   ],
   "source": [
    "obs_rate.cdf(exp_rate_lower_ci) > 0.95"
   ]
  },
  {
   "cell_type": "code",
   "execution_count": 220,
   "id": "b74ca43a-d13e-42c4-ac35-35bc90fad41c",
   "metadata": {},
   "outputs": [
    {
     "data": {
      "text/plain": [
       "[<matplotlib.lines.Line2D at 0x156cf77f0>]"
      ]
     },
     "execution_count": 220,
     "metadata": {},
     "output_type": "execute_result"
    },
    {
     "data": {
      "image/png": "[encoded data removed]",
      "text/plain": [
       "<Figure size 432x288 with 1 Axes>"
      ]
     },
     "metadata": {
      "needs_background": "light"
     },
     "output_type": "display_data"
    }
   ],
   "source": [
    "support = np.linspace(0,20,1000)\n",
    "plot(support, obs_rate.pdf(support))\n",
    "plot(support, expected_rate.pdf(support))"
   ]
  },
  {
   "cell_type": "code",
   "execution_count": 63,
   "id": "3542176a-7c61-4680-b383-b26596590222",
   "metadata": {},
   "outputs": [
    {
     "data": {
      "text/plain": [
       "2.6474316024486853e-86"
      ]
     },
     "execution_count": 63,
     "metadata": {},
     "output_type": "execute_result"
    }
   ],
   "source": [
    "expected_rate.cdf(0.1)"
   ]
  },
  {
   "cell_type": "code",
   "execution_count": null,
   "id": "d6316d02-abca-4456-beec-712411f30d16",
   "metadata": {},
   "outputs": [],
   "source": []
  }
 ],
 "metadata": {
  "interpreter": {
   "hash": "5ed0acae8d115088da62ba76fb7c7a400102d4fae5edc60253ea7aa9d6e976bb"
  },
  "kernelspec": {
   "display_name": "Python 3 (ipykernel)",
   "language": "python",
   "name": "python3"
  },
  "language_info": {
   "codemirror_mode": {
    "name": "ipython",
    "version": 3
   },
   "file_extension": ".py",
   "mimetype": "text/x-python",
   "name": "python",
   "nbconvert_exporter": "python",
   "pygments_lexer": "ipython3",
   "version": "3.9.15"
  }
 },
 "nbformat": 4,
 "nbformat_minor": 5
}
